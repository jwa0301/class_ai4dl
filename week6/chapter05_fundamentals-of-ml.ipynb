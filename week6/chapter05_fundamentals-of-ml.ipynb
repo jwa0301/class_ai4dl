{
  "cells": [
    {
      "cell_type": "markdown",
      "metadata": {
        "id": "YKYTMnwp7eSE"
      },
      "source": [
        "This is a companion notebook for the book [Deep Learning with Python, Second Edition](https://www.manning.com/books/deep-learning-with-python-second-edition?a_aid=keras&a_bid=76564dff). For readability, it only contains runnable code blocks and section titles, and omits everything else in the book: text paragraphs, figures, and pseudocode.\n",
        "\n",
        "**If you want to be able to follow what's going on, I recommend reading the notebook side by side with your copy of the book.**\n",
        "\n",
        "This notebook was generated for TensorFlow 2.6."
      ]
    },
    {
      "cell_type": "markdown",
      "metadata": {
        "id": "61Yw85PX7eSH"
      },
      "source": [
        "# Fundamentals of machine learning"
      ]
    },
    {
      "cell_type": "markdown",
      "metadata": {
        "id": "8znbzP8T7eSH"
      },
      "source": [
        "## Generalization: The goal of machine learning"
      ]
    },
    {
      "cell_type": "markdown",
      "metadata": {
        "id": "aGq4K1s97eSI"
      },
      "source": [
        "### Underfitting and overfitting"
      ]
    },
    {
      "cell_type": "markdown",
      "metadata": {
        "id": "JFAKYoRA7eSI"
      },
      "source": [
        "#### Noisy training data"
      ]
    },
    {
      "cell_type": "markdown",
      "metadata": {
        "id": "hyxycvj27eSI"
      },
      "source": [
        "#### Ambiguous features"
      ]
    },
    {
      "cell_type": "markdown",
      "metadata": {
        "id": "n4ssnEl37eSI"
      },
      "source": [
        "#### Rare features and spurious correlations"
      ]
    },
    {
      "cell_type": "markdown",
      "metadata": {
        "id": "OL_ZdRTi7eSI"
      },
      "source": [
        "**Adding white-noise channels or all-zeros channels to MNIST**"
      ]
    },
    {
      "cell_type": "code",
      "execution_count": 23,
      "metadata": {
        "id": "RFjORE4_7eSJ"
      },
      "outputs": [],
      "source": [
        "from tensorflow.keras.datasets import mnist\n",
        "import numpy as np\n",
        "\n",
        "(train_images, train_labels), _ = mnist.load_data()\n",
        "train_images = train_images.reshape((60000, 28 * 28))\n",
        "train_images = train_images.astype(\"float32\") / 255\n",
        "\n",
        "train_images_with_noise_channels = np.concatenate(\n",
        "    [train_images, np.random.random((len(train_images), 784))], axis=1)\n",
        "\n",
        "train_images_with_zeros_channels = np.concatenate(\n",
        "    [train_images, np.zeros((len(train_images), 784))], axis=1)"
      ]
    },
    {
      "cell_type": "markdown",
      "metadata": {
        "id": "9lnsWUwD7eSK"
      },
      "source": [
        "**Training the same model on MNIST data with noise channels or all-zero channels**"
      ]
    },
    {
      "cell_type": "code",
      "execution_count": 24,
      "metadata": {
        "id": "55wbAgnk7eSK",
        "outputId": "985e43ef-60cc-4a84-c900-d9809bfd49da",
        "colab": {
          "base_uri": "https://localhost:8080/"
        }
      },
      "outputs": [
        {
          "output_type": "stream",
          "name": "stdout",
          "text": [
            "Epoch 1/10\n",
            "375/375 [==============================] - 2s 4ms/step - loss: 0.6152 - accuracy: 0.8097 - val_loss: 0.2850 - val_accuracy: 0.9143\n",
            "Epoch 2/10\n",
            "375/375 [==============================] - 1s 3ms/step - loss: 0.2525 - accuracy: 0.9217 - val_loss: 0.1925 - val_accuracy: 0.9431\n",
            "Epoch 3/10\n",
            "375/375 [==============================] - 1s 3ms/step - loss: 0.1636 - accuracy: 0.9494 - val_loss: 0.1594 - val_accuracy: 0.9520\n",
            "Epoch 4/10\n",
            "375/375 [==============================] - 1s 3ms/step - loss: 0.1202 - accuracy: 0.9628 - val_loss: 0.1419 - val_accuracy: 0.9564\n",
            "Epoch 5/10\n",
            "375/375 [==============================] - 1s 3ms/step - loss: 0.0851 - accuracy: 0.9736 - val_loss: 0.1351 - val_accuracy: 0.9599\n",
            "Epoch 6/10\n",
            "375/375 [==============================] - 2s 4ms/step - loss: 0.0648 - accuracy: 0.9793 - val_loss: 0.1345 - val_accuracy: 0.9621\n",
            "Epoch 7/10\n",
            "375/375 [==============================] - 2s 4ms/step - loss: 0.0482 - accuracy: 0.9844 - val_loss: 0.1520 - val_accuracy: 0.9588\n",
            "Epoch 8/10\n",
            "375/375 [==============================] - 2s 4ms/step - loss: 0.0354 - accuracy: 0.9883 - val_loss: 0.1447 - val_accuracy: 0.9610\n",
            "Epoch 9/10\n",
            "375/375 [==============================] - 2s 4ms/step - loss: 0.0262 - accuracy: 0.9914 - val_loss: 0.1336 - val_accuracy: 0.9677\n",
            "Epoch 10/10\n",
            "375/375 [==============================] - 1s 3ms/step - loss: 0.0188 - accuracy: 0.9944 - val_loss: 0.1335 - val_accuracy: 0.9683\n",
            "Epoch 1/10\n",
            "375/375 [==============================] - 4s 6ms/step - loss: 0.2955 - accuracy: 0.9148 - val_loss: 0.1472 - val_accuracy: 0.9587\n",
            "Epoch 2/10\n",
            "375/375 [==============================] - 1s 3ms/step - loss: 0.1237 - accuracy: 0.9636 - val_loss: 0.1064 - val_accuracy: 0.9679\n",
            "Epoch 3/10\n",
            "375/375 [==============================] - 1s 4ms/step - loss: 0.0820 - accuracy: 0.9760 - val_loss: 0.1043 - val_accuracy: 0.9697\n",
            "Epoch 4/10\n",
            "375/375 [==============================] - 1s 3ms/step - loss: 0.0591 - accuracy: 0.9823 - val_loss: 0.0881 - val_accuracy: 0.9743\n",
            "Epoch 5/10\n",
            "375/375 [==============================] - 1s 3ms/step - loss: 0.0440 - accuracy: 0.9869 - val_loss: 0.0881 - val_accuracy: 0.9751\n",
            "Epoch 6/10\n",
            "375/375 [==============================] - 1s 4ms/step - loss: 0.0345 - accuracy: 0.9896 - val_loss: 0.0804 - val_accuracy: 0.9772\n",
            "Epoch 7/10\n",
            "375/375 [==============================] - 2s 4ms/step - loss: 0.0259 - accuracy: 0.9926 - val_loss: 0.0766 - val_accuracy: 0.9778\n",
            "Epoch 8/10\n",
            "375/375 [==============================] - 2s 4ms/step - loss: 0.0195 - accuracy: 0.9944 - val_loss: 0.0799 - val_accuracy: 0.9768\n",
            "Epoch 9/10\n",
            "375/375 [==============================] - 1s 3ms/step - loss: 0.0150 - accuracy: 0.9960 - val_loss: 0.0770 - val_accuracy: 0.9795\n",
            "Epoch 10/10\n",
            "375/375 [==============================] - 1s 3ms/step - loss: 0.0113 - accuracy: 0.9970 - val_loss: 0.0805 - val_accuracy: 0.9787\n"
          ]
        }
      ],
      "source": [
        "from tensorflow import keras\n",
        "from tensorflow.keras import layers\n",
        "\n",
        "def get_model():\n",
        "    model = keras.Sequential([\n",
        "        layers.Dense(512, activation=\"relu\"),\n",
        "        layers.Dense(10, activation=\"softmax\")\n",
        "    ])\n",
        "    model.compile(optimizer=\"rmsprop\",\n",
        "                  loss=\"sparse_categorical_crossentropy\",\n",
        "                  metrics=[\"accuracy\"])\n",
        "    return model\n",
        "\n",
        "model = get_model()\n",
        "history_noise = model.fit(\n",
        "    train_images_with_noise_channels, train_labels,\n",
        "    epochs=10,\n",
        "    batch_size=128,\n",
        "    validation_split=0.2)\n",
        "\n",
        "model = get_model()\n",
        "history_zeros = model.fit(\n",
        "    train_images_with_zeros_channels, train_labels,\n",
        "    epochs=10,\n",
        "    batch_size=128,\n",
        "    validation_split=0.2)"
      ]
    },
    {
      "cell_type": "markdown",
      "metadata": {
        "id": "qZ0l0KOA7eSK"
      },
      "source": [
        "**Plotting a validation accuracy comparison**"
      ]
    },
    {
      "cell_type": "code",
      "execution_count": 25,
      "metadata": {
        "id": "KCHf4qPJ7eSL",
        "outputId": "a1a7a872-b6d5-458c-ed36-a782f1c69999",
        "colab": {
          "base_uri": "https://localhost:8080/",
          "height": 490
        }
      },
      "outputs": [
        {
          "output_type": "execute_result",
          "data": {
            "text/plain": [
              "<matplotlib.legend.Legend at 0x7f9bc7132280>"
            ]
          },
          "metadata": {},
          "execution_count": 25
        },
        {
          "output_type": "display_data",
          "data": {
            "text/plain": [
              "<Figure size 640x480 with 1 Axes>"
            ],
            "image/png": "[encoded data removed]"
          },
          "metadata": {}
        }
      ],
      "source": [
        "import matplotlib.pyplot as plt\n",
        "val_acc_noise = history_noise.history[\"val_accuracy\"]\n",
        "val_acc_zeros = history_zeros.history[\"val_accuracy\"]\n",
        "epochs = range(1, 11)\n",
        "plt.plot(epochs, val_acc_noise, \"b-\",\n",
        "         label=\"Validation accuracy with noise channels\")\n",
        "plt.plot(epochs, val_acc_zeros, \"b--\",\n",
        "         label=\"Validation accuracy with zeros channels\")\n",
        "plt.title(\"Effect of noise channels on validation accuracy\")\n",
        "plt.xlabel(\"Epochs\")\n",
        "plt.ylabel(\"Accuracy\")\n",
        "plt.legend()"
      ]
    },
    {
      "cell_type": "markdown",
      "metadata": {
        "id": "9UBNLhDs7eSL"
      },
      "source": [
        "### The nature of generalization in deep learning"
      ]
    },
    {
      "cell_type": "markdown",
      "metadata": {
        "id": "54Nc1OGQ7eSL"
      },
      "source": [
        "**Fitting a MNIST model with randomly shuffled labels**"
      ]
    },
    {
      "cell_type": "code",
      "execution_count": 27,
      "metadata": {
        "id": "v0SSVFl97eSM",
        "outputId": "4a26e284-2b90-4117-e712-8df9203ba7fb",
        "colab": {
          "base_uri": "https://localhost:8080/"
        }
      },
      "outputs": [
        {
          "output_type": "stream",
          "name": "stdout",
          "text": [
            "Epoch 1/100\n",
            "375/375 [==============================] - 2s 4ms/step - loss: 2.3162 - accuracy: 0.1013 - val_loss: 2.3044 - val_accuracy: 0.1073\n",
            "Epoch 2/100\n",
            "375/375 [==============================] - 2s 4ms/step - loss: 2.2997 - accuracy: 0.1140 - val_loss: 2.3087 - val_accuracy: 0.1034\n",
            "Epoch 3/100\n",
            "375/375 [==============================] - 2s 4ms/step - loss: 2.2923 - accuracy: 0.1241 - val_loss: 2.3168 - val_accuracy: 0.1032\n",
            "Epoch 4/100\n",
            "375/375 [==============================] - 1s 3ms/step - loss: 2.2805 - accuracy: 0.1371 - val_loss: 2.3238 - val_accuracy: 0.1063\n",
            "Epoch 5/100\n",
            "375/375 [==============================] - 1s 3ms/step - loss: 2.2655 - accuracy: 0.1512 - val_loss: 2.3333 - val_accuracy: 0.1047\n",
            "Epoch 6/100\n",
            "375/375 [==============================] - 1s 3ms/step - loss: 2.2464 - accuracy: 0.1636 - val_loss: 2.3495 - val_accuracy: 0.1032\n",
            "Epoch 7/100\n",
            "375/375 [==============================] - 1s 3ms/step - loss: 2.2230 - accuracy: 0.1778 - val_loss: 2.3651 - val_accuracy: 0.0998\n",
            "Epoch 8/100\n",
            "375/375 [==============================] - 1s 3ms/step - loss: 2.1981 - accuracy: 0.1954 - val_loss: 2.3764 - val_accuracy: 0.0978\n",
            "Epoch 9/100\n",
            "375/375 [==============================] - 1s 3ms/step - loss: 2.1669 - accuracy: 0.2124 - val_loss: 2.4041 - val_accuracy: 0.1024\n",
            "Epoch 10/100\n",
            "375/375 [==============================] - 1s 3ms/step - loss: 2.1348 - accuracy: 0.2275 - val_loss: 2.4294 - val_accuracy: 0.0972\n",
            "Epoch 11/100\n",
            "375/375 [==============================] - 1s 3ms/step - loss: 2.1004 - accuracy: 0.2467 - val_loss: 2.4459 - val_accuracy: 0.0994\n",
            "Epoch 12/100\n",
            "375/375 [==============================] - 2s 4ms/step - loss: 2.0642 - accuracy: 0.2625 - val_loss: 2.4730 - val_accuracy: 0.0972\n",
            "Epoch 13/100\n",
            "375/375 [==============================] - 2s 4ms/step - loss: 2.0256 - accuracy: 0.2778 - val_loss: 2.5039 - val_accuracy: 0.0960\n",
            "Epoch 14/100\n",
            "375/375 [==============================] - 1s 3ms/step - loss: 1.9873 - accuracy: 0.2972 - val_loss: 2.5447 - val_accuracy: 0.0943\n",
            "Epoch 15/100\n",
            "375/375 [==============================] - 1s 3ms/step - loss: 1.9491 - accuracy: 0.3123 - val_loss: 2.5793 - val_accuracy: 0.0953\n",
            "Epoch 16/100\n",
            "375/375 [==============================] - 1s 3ms/step - loss: 1.9089 - accuracy: 0.3280 - val_loss: 2.5961 - val_accuracy: 0.0984\n",
            "Epoch 17/100\n",
            "375/375 [==============================] - 1s 3ms/step - loss: 1.8684 - accuracy: 0.3478 - val_loss: 2.6361 - val_accuracy: 0.0983\n",
            "Epoch 18/100\n",
            "375/375 [==============================] - 1s 3ms/step - loss: 1.8295 - accuracy: 0.3637 - val_loss: 2.6705 - val_accuracy: 0.0951\n",
            "Epoch 19/100\n",
            "375/375 [==============================] - 1s 3ms/step - loss: 1.7894 - accuracy: 0.3753 - val_loss: 2.7197 - val_accuracy: 0.0962\n",
            "Epoch 20/100\n",
            "375/375 [==============================] - 1s 3ms/step - loss: 1.7515 - accuracy: 0.3934 - val_loss: 2.7552 - val_accuracy: 0.0945\n",
            "Epoch 21/100\n",
            "375/375 [==============================] - 1s 3ms/step - loss: 1.7133 - accuracy: 0.4078 - val_loss: 2.8186 - val_accuracy: 0.1017\n",
            "Epoch 22/100\n",
            "375/375 [==============================] - 1s 3ms/step - loss: 1.6763 - accuracy: 0.4213 - val_loss: 2.8372 - val_accuracy: 0.0953\n",
            "Epoch 23/100\n",
            "375/375 [==============================] - 2s 6ms/step - loss: 1.6370 - accuracy: 0.4355 - val_loss: 2.9023 - val_accuracy: 0.0948\n",
            "Epoch 24/100\n",
            "375/375 [==============================] - 2s 4ms/step - loss: 1.6003 - accuracy: 0.4504 - val_loss: 2.9457 - val_accuracy: 0.0949\n",
            "Epoch 25/100\n",
            "375/375 [==============================] - 1s 3ms/step - loss: 1.5678 - accuracy: 0.4611 - val_loss: 3.0034 - val_accuracy: 0.0957\n",
            "Epoch 26/100\n",
            "375/375 [==============================] - 1s 3ms/step - loss: 1.5307 - accuracy: 0.4773 - val_loss: 3.0231 - val_accuracy: 0.0971\n",
            "Epoch 27/100\n",
            "375/375 [==============================] - 1s 3ms/step - loss: 1.4989 - accuracy: 0.4921 - val_loss: 3.0727 - val_accuracy: 0.0986\n",
            "Epoch 28/100\n",
            "375/375 [==============================] - 1s 3ms/step - loss: 1.4654 - accuracy: 0.5027 - val_loss: 3.1223 - val_accuracy: 0.0993\n",
            "Epoch 29/100\n",
            "375/375 [==============================] - 1s 3ms/step - loss: 1.4329 - accuracy: 0.5149 - val_loss: 3.1809 - val_accuracy: 0.0958\n",
            "Epoch 30/100\n",
            "375/375 [==============================] - 1s 3ms/step - loss: 1.4013 - accuracy: 0.5281 - val_loss: 3.2173 - val_accuracy: 0.1001\n",
            "Epoch 31/100\n",
            "375/375 [==============================] - 1s 3ms/step - loss: 1.3729 - accuracy: 0.5339 - val_loss: 3.2869 - val_accuracy: 0.0973\n",
            "Epoch 32/100\n",
            "375/375 [==============================] - 1s 4ms/step - loss: 1.3402 - accuracy: 0.5466 - val_loss: 3.3566 - val_accuracy: 0.0992\n",
            "Epoch 33/100\n",
            "375/375 [==============================] - 2s 4ms/step - loss: 1.3148 - accuracy: 0.5593 - val_loss: 3.3745 - val_accuracy: 0.0988\n",
            "Epoch 34/100\n",
            "375/375 [==============================] - 1s 4ms/step - loss: 1.2854 - accuracy: 0.5659 - val_loss: 3.4614 - val_accuracy: 0.0979\n",
            "Epoch 35/100\n",
            "375/375 [==============================] - 1s 3ms/step - loss: 1.2561 - accuracy: 0.5781 - val_loss: 3.5086 - val_accuracy: 0.0949\n",
            "Epoch 36/100\n",
            "375/375 [==============================] - 1s 3ms/step - loss: 1.2310 - accuracy: 0.5870 - val_loss: 3.5381 - val_accuracy: 0.0958\n",
            "Epoch 37/100\n",
            "375/375 [==============================] - 1s 3ms/step - loss: 1.2031 - accuracy: 0.5995 - val_loss: 3.6132 - val_accuracy: 0.0980\n",
            "Epoch 38/100\n",
            "375/375 [==============================] - 1s 3ms/step - loss: 1.1764 - accuracy: 0.6054 - val_loss: 3.6609 - val_accuracy: 0.0968\n",
            "Epoch 39/100\n",
            "375/375 [==============================] - 1s 3ms/step - loss: 1.1530 - accuracy: 0.6135 - val_loss: 3.7406 - val_accuracy: 0.1002\n",
            "Epoch 40/100\n",
            "375/375 [==============================] - 1s 3ms/step - loss: 1.1271 - accuracy: 0.6229 - val_loss: 3.7776 - val_accuracy: 0.1013\n",
            "Epoch 41/100\n",
            "375/375 [==============================] - 1s 3ms/step - loss: 1.1023 - accuracy: 0.6334 - val_loss: 3.8294 - val_accuracy: 0.0997\n",
            "Epoch 42/100\n",
            "375/375 [==============================] - 1s 3ms/step - loss: 1.0804 - accuracy: 0.6401 - val_loss: 3.9002 - val_accuracy: 0.0978\n",
            "Epoch 43/100\n",
            "375/375 [==============================] - 2s 4ms/step - loss: 1.0561 - accuracy: 0.6494 - val_loss: 3.9698 - val_accuracy: 0.0980\n",
            "Epoch 44/100\n",
            "375/375 [==============================] - 2s 5ms/step - loss: 1.0373 - accuracy: 0.6557 - val_loss: 4.0005 - val_accuracy: 0.1001\n",
            "Epoch 45/100\n",
            "375/375 [==============================] - 1s 4ms/step - loss: 1.0113 - accuracy: 0.6658 - val_loss: 4.0658 - val_accuracy: 0.0945\n",
            "Epoch 46/100\n",
            "375/375 [==============================] - 1s 3ms/step - loss: 0.9904 - accuracy: 0.6705 - val_loss: 4.1758 - val_accuracy: 0.0972\n",
            "Epoch 47/100\n",
            "375/375 [==============================] - 1s 3ms/step - loss: 0.9709 - accuracy: 0.6794 - val_loss: 4.2453 - val_accuracy: 0.0971\n",
            "Epoch 48/100\n",
            "375/375 [==============================] - 1s 3ms/step - loss: 0.9505 - accuracy: 0.6876 - val_loss: 4.2549 - val_accuracy: 0.0976\n",
            "Epoch 49/100\n",
            "375/375 [==============================] - 1s 3ms/step - loss: 0.9294 - accuracy: 0.6941 - val_loss: 4.3349 - val_accuracy: 0.0976\n",
            "Epoch 50/100\n",
            "375/375 [==============================] - 1s 3ms/step - loss: 0.9106 - accuracy: 0.6992 - val_loss: 4.4270 - val_accuracy: 0.0981\n",
            "Epoch 51/100\n",
            "375/375 [==============================] - 1s 3ms/step - loss: 0.8923 - accuracy: 0.7082 - val_loss: 4.4536 - val_accuracy: 0.0978\n",
            "Epoch 52/100\n",
            "375/375 [==============================] - 1s 4ms/step - loss: 0.8738 - accuracy: 0.7140 - val_loss: 4.5456 - val_accuracy: 0.0967\n",
            "Epoch 53/100\n",
            "375/375 [==============================] - 2s 4ms/step - loss: 0.8568 - accuracy: 0.7211 - val_loss: 4.5958 - val_accuracy: 0.0967\n",
            "Epoch 54/100\n",
            "375/375 [==============================] - 1s 4ms/step - loss: 0.8370 - accuracy: 0.7278 - val_loss: 4.7024 - val_accuracy: 0.0990\n",
            "Epoch 55/100\n",
            "375/375 [==============================] - 1s 3ms/step - loss: 0.8205 - accuracy: 0.7333 - val_loss: 4.7524 - val_accuracy: 0.0964\n",
            "Epoch 56/100\n",
            "375/375 [==============================] - 1s 3ms/step - loss: 0.8036 - accuracy: 0.7402 - val_loss: 4.8278 - val_accuracy: 0.0985\n",
            "Epoch 57/100\n",
            "375/375 [==============================] - 1s 3ms/step - loss: 0.7883 - accuracy: 0.7445 - val_loss: 4.8958 - val_accuracy: 0.1001\n",
            "Epoch 58/100\n",
            "375/375 [==============================] - 1s 3ms/step - loss: 0.7723 - accuracy: 0.7492 - val_loss: 4.9476 - val_accuracy: 0.0992\n",
            "Epoch 59/100\n",
            "375/375 [==============================] - 1s 3ms/step - loss: 0.7536 - accuracy: 0.7571 - val_loss: 5.0042 - val_accuracy: 0.0986\n",
            "Epoch 60/100\n",
            "375/375 [==============================] - 1s 3ms/step - loss: 0.7400 - accuracy: 0.7606 - val_loss: 5.1022 - val_accuracy: 0.0999\n",
            "Epoch 61/100\n",
            "375/375 [==============================] - 1s 3ms/step - loss: 0.7241 - accuracy: 0.7657 - val_loss: 5.1343 - val_accuracy: 0.0957\n",
            "Epoch 62/100\n",
            "375/375 [==============================] - 1s 3ms/step - loss: 0.7096 - accuracy: 0.7714 - val_loss: 5.2345 - val_accuracy: 0.0992\n",
            "Epoch 63/100\n",
            "375/375 [==============================] - 2s 4ms/step - loss: 0.6961 - accuracy: 0.7761 - val_loss: 5.3195 - val_accuracy: 0.0991\n",
            "Epoch 64/100\n",
            "375/375 [==============================] - 1s 4ms/step - loss: 0.6801 - accuracy: 0.7816 - val_loss: 5.3499 - val_accuracy: 0.0986\n",
            "Epoch 65/100\n",
            "375/375 [==============================] - 1s 3ms/step - loss: 0.6665 - accuracy: 0.7860 - val_loss: 5.4383 - val_accuracy: 0.0989\n",
            "Epoch 66/100\n",
            "375/375 [==============================] - 1s 3ms/step - loss: 0.6557 - accuracy: 0.7903 - val_loss: 5.5454 - val_accuracy: 0.0971\n",
            "Epoch 67/100\n",
            "375/375 [==============================] - 1s 3ms/step - loss: 0.6413 - accuracy: 0.7960 - val_loss: 5.5434 - val_accuracy: 0.0973\n",
            "Epoch 68/100\n",
            "375/375 [==============================] - 1s 3ms/step - loss: 0.6290 - accuracy: 0.8002 - val_loss: 5.6998 - val_accuracy: 0.0990\n",
            "Epoch 69/100\n",
            "375/375 [==============================] - 1s 3ms/step - loss: 0.6134 - accuracy: 0.8022 - val_loss: 5.7111 - val_accuracy: 0.0968\n",
            "Epoch 70/100\n",
            "375/375 [==============================] - 1s 3ms/step - loss: 0.6026 - accuracy: 0.8071 - val_loss: 5.8223 - val_accuracy: 0.0956\n",
            "Epoch 71/100\n",
            "375/375 [==============================] - 1s 3ms/step - loss: 0.5930 - accuracy: 0.8094 - val_loss: 5.8415 - val_accuracy: 0.0988\n",
            "Epoch 72/100\n",
            "375/375 [==============================] - 1s 3ms/step - loss: 0.5773 - accuracy: 0.8175 - val_loss: 5.9021 - val_accuracy: 0.0958\n",
            "Epoch 73/100\n",
            "375/375 [==============================] - 1s 3ms/step - loss: 0.5664 - accuracy: 0.8204 - val_loss: 6.0038 - val_accuracy: 0.1010\n",
            "Epoch 74/100\n",
            "375/375 [==============================] - 2s 4ms/step - loss: 0.5568 - accuracy: 0.8248 - val_loss: 6.0848 - val_accuracy: 0.0962\n",
            "Epoch 75/100\n",
            "375/375 [==============================] - 2s 4ms/step - loss: 0.5453 - accuracy: 0.8278 - val_loss: 6.1328 - val_accuracy: 0.0978\n",
            "Epoch 76/100\n",
            "375/375 [==============================] - 1s 3ms/step - loss: 0.5344 - accuracy: 0.8324 - val_loss: 6.2644 - val_accuracy: 0.0977\n",
            "Epoch 77/100\n",
            "375/375 [==============================] - 1s 3ms/step - loss: 0.5248 - accuracy: 0.8351 - val_loss: 6.2918 - val_accuracy: 0.0990\n",
            "Epoch 78/100\n",
            "375/375 [==============================] - 1s 3ms/step - loss: 0.5157 - accuracy: 0.8368 - val_loss: 6.3712 - val_accuracy: 0.0997\n",
            "Epoch 79/100\n",
            "375/375 [==============================] - 1s 3ms/step - loss: 0.5054 - accuracy: 0.8406 - val_loss: 6.4333 - val_accuracy: 0.0966\n",
            "Epoch 80/100\n",
            "375/375 [==============================] - 1s 3ms/step - loss: 0.4929 - accuracy: 0.8444 - val_loss: 6.5500 - val_accuracy: 0.0991\n",
            "Epoch 81/100\n",
            "375/375 [==============================] - 1s 3ms/step - loss: 0.4867 - accuracy: 0.8455 - val_loss: 6.6316 - val_accuracy: 0.0996\n",
            "Epoch 82/100\n",
            "375/375 [==============================] - 1s 3ms/step - loss: 0.4764 - accuracy: 0.8501 - val_loss: 6.6919 - val_accuracy: 0.0976\n",
            "Epoch 83/100\n",
            "375/375 [==============================] - 1s 3ms/step - loss: 0.4670 - accuracy: 0.8535 - val_loss: 6.8407 - val_accuracy: 0.0984\n",
            "Epoch 84/100\n",
            "375/375 [==============================] - 2s 4ms/step - loss: 0.4577 - accuracy: 0.8553 - val_loss: 6.8153 - val_accuracy: 0.0973\n",
            "Epoch 85/100\n",
            "375/375 [==============================] - 2s 4ms/step - loss: 0.4508 - accuracy: 0.8602 - val_loss: 6.8933 - val_accuracy: 0.0999\n",
            "Epoch 86/100\n",
            "375/375 [==============================] - 1s 3ms/step - loss: 0.4424 - accuracy: 0.8606 - val_loss: 6.9460 - val_accuracy: 0.0974\n",
            "Epoch 87/100\n",
            "375/375 [==============================] - 1s 3ms/step - loss: 0.4318 - accuracy: 0.8649 - val_loss: 7.0301 - val_accuracy: 0.0979\n",
            "Epoch 88/100\n",
            "375/375 [==============================] - 1s 3ms/step - loss: 0.4243 - accuracy: 0.8679 - val_loss: 7.1377 - val_accuracy: 0.0958\n",
            "Epoch 89/100\n",
            "375/375 [==============================] - 1s 3ms/step - loss: 0.4175 - accuracy: 0.8700 - val_loss: 7.2020 - val_accuracy: 0.0989\n",
            "Epoch 90/100\n",
            "375/375 [==============================] - 1s 3ms/step - loss: 0.4072 - accuracy: 0.8740 - val_loss: 7.3170 - val_accuracy: 0.0960\n",
            "Epoch 91/100\n",
            "375/375 [==============================] - 1s 3ms/step - loss: 0.4012 - accuracy: 0.8738 - val_loss: 7.3673 - val_accuracy: 0.0964\n",
            "Epoch 92/100\n",
            "375/375 [==============================] - 1s 3ms/step - loss: 0.3937 - accuracy: 0.8780 - val_loss: 7.4088 - val_accuracy: 0.0956\n",
            "Epoch 93/100\n",
            "375/375 [==============================] - 1s 3ms/step - loss: 0.3854 - accuracy: 0.8808 - val_loss: 7.5584 - val_accuracy: 0.0983\n",
            "Epoch 94/100\n",
            "375/375 [==============================] - 1s 4ms/step - loss: 0.3764 - accuracy: 0.8832 - val_loss: 7.5651 - val_accuracy: 0.0997\n",
            "Epoch 95/100\n",
            "375/375 [==============================] - 2s 4ms/step - loss: 0.3724 - accuracy: 0.8841 - val_loss: 7.7195 - val_accuracy: 0.0992\n",
            "Epoch 96/100\n",
            "375/375 [==============================] - 1s 3ms/step - loss: 0.3645 - accuracy: 0.8887 - val_loss: 7.7100 - val_accuracy: 0.0961\n",
            "Epoch 97/100\n",
            "375/375 [==============================] - 1s 3ms/step - loss: 0.3581 - accuracy: 0.8893 - val_loss: 7.7929 - val_accuracy: 0.0966\n",
            "Epoch 98/100\n",
            "375/375 [==============================] - 1s 3ms/step - loss: 0.3533 - accuracy: 0.8915 - val_loss: 7.8915 - val_accuracy: 0.0965\n",
            "Epoch 99/100\n",
            "375/375 [==============================] - 1s 3ms/step - loss: 0.3459 - accuracy: 0.8941 - val_loss: 7.9188 - val_accuracy: 0.1002\n",
            "Epoch 100/100\n",
            "375/375 [==============================] - 1s 3ms/step - loss: 0.3389 - accuracy: 0.8977 - val_loss: 8.0207 - val_accuracy: 0.0959\n"
          ]
        }
      ],
      "source": [
        "(train_images, train_labels), _ = mnist.load_data()\n",
        "train_images = train_images.reshape((60000, 28 * 28))\n",
        "train_images = train_images.astype(\"float32\") / 255\n",
        "\n",
        "random_train_labels = train_labels[:]\n",
        "np.random.shuffle(random_train_labels)\n",
        "\n",
        "model = keras.Sequential([\n",
        "    layers.Dense(512, activation=\"relu\"),\n",
        "    layers.Dense(10, activation=\"softmax\")\n",
        "])\n",
        "model.compile(optimizer=\"rmsprop\",\n",
        "              loss=\"sparse_categorical_crossentropy\",\n",
        "              metrics=[\"accuracy\"])\n",
        "history = model.fit(train_images, random_train_labels,\n",
        "          epochs=100,\n",
        "          batch_size=128,\n",
        "          validation_split=0.2)\n"
      ]
    },
    {
      "cell_type": "code",
      "source": [
        "epochs = range(1, 101)\n",
        "plt.plot(epochs, history.history[\"val_accuracy\"] , \"b-\",\n",
        "         label=\"training accuracy\")\n",
        "plt.plot(epochs, history.history[\"accuracy\"] , \"b--\",\n",
        "         label=\"accuracy\")"
      ],
      "metadata": {
        "id": "qIJfStz179lZ",
        "outputId": "91ea43cb-6be4-4521-ccd2-dccc95d3d1b9",
        "colab": {
          "base_uri": "https://localhost:8080/",
          "height": 448
        }
      },
      "execution_count": 31,
      "outputs": [
        {
          "output_type": "execute_result",
          "data": {
            "text/plain": [
              "[<matplotlib.lines.Line2D at 0x7f9bc8058640>]"
            ]
          },
          "metadata": {},
          "execution_count": 31
        },
        {
          "output_type": "display_data",
          "data": {
            "text/plain": [
              "<Figure size 640x480 with 1 Axes>"
            ],
            "image/png": "[encoded data removed]"
          },
          "metadata": {}
        }
      ]
    },
    {
      "cell_type": "markdown",
      "metadata": {
        "id": "nrxk5T6u7eSM"
      },
      "source": [
        "#### The manifold hypothesis"
      ]
    },
    {
      "cell_type": "markdown",
      "metadata": {
        "id": "N1W7TW0f7eSM"
      },
      "source": [
        "#### Interpolation as a source of generalization"
      ]
    },
    {
      "cell_type": "markdown",
      "metadata": {
        "id": "fdzwgDht7eSM"
      },
      "source": [
        "#### Why deep learning works"
      ]
    },
    {
      "cell_type": "markdown",
      "metadata": {
        "id": "VRrKIjYJ7eSN"
      },
      "source": [
        "#### Training data is paramount"
      ]
    },
    {
      "cell_type": "markdown",
      "metadata": {
        "id": "2nkMtxov7eSN"
      },
      "source": [
        "## Evaluating machine-learning models"
      ]
    },
    {
      "cell_type": "markdown",
      "metadata": {
        "id": "vSwFual-7eSN"
      },
      "source": [
        "### Training, validation, and test sets"
      ]
    },
    {
      "cell_type": "markdown",
      "metadata": {
        "id": "ae5bwObG7eSN"
      },
      "source": [
        "#### Simple hold-out validation"
      ]
    },
    {
      "cell_type": "markdown",
      "metadata": {
        "id": "CzgB1YzF7eSN"
      },
      "source": [
        "#### K-fold validation"
      ]
    },
    {
      "cell_type": "markdown",
      "metadata": {
        "id": "BKK58saj7eSN"
      },
      "source": [
        "#### Iterated K-fold validation with shuffling"
      ]
    },
    {
      "cell_type": "markdown",
      "metadata": {
        "id": "ew3yQTW17eSN"
      },
      "source": [
        "### Beating a common-sense baseline"
      ]
    },
    {
      "cell_type": "markdown",
      "metadata": {
        "id": "HiMJwYUP7eSN"
      },
      "source": [
        "### Things to keep in mind about model evaluation"
      ]
    },
    {
      "cell_type": "markdown",
      "metadata": {
        "id": "Ka7pVkiA7eSO"
      },
      "source": [
        "## Improving model fit"
      ]
    },
    {
      "cell_type": "markdown",
      "metadata": {
        "id": "UEPkmPaj7eSO"
      },
      "source": [
        "### Tuning key gradient descent parameters"
      ]
    },
    {
      "cell_type": "markdown",
      "metadata": {
        "id": "fwgFhgW_7eSO"
      },
      "source": [
        "**Training a MNIST model with an incorrectly high learning rate**"
      ]
    },
    {
      "cell_type": "code",
      "execution_count": 34,
      "metadata": {
        "id": "82YQr6Un7eSO",
        "outputId": "6ea623f5-7dbc-4b75-dd74-2e1ae4d1bb1a",
        "colab": {
          "base_uri": "https://localhost:8080/"
        }
      },
      "outputs": [
        {
          "output_type": "stream",
          "name": "stdout",
          "text": [
            "Epoch 1/10\n",
            "375/375 [==============================] - 2s 4ms/step - loss: 660.9160 - accuracy: 0.2912 - val_loss: 2.1579 - val_accuracy: 0.2431\n",
            "Epoch 2/10\n",
            "375/375 [==============================] - 1s 3ms/step - loss: 2.6400 - accuracy: 0.2270 - val_loss: 2.1998 - val_accuracy: 0.2185\n",
            "Epoch 3/10\n",
            "375/375 [==============================] - 1s 4ms/step - loss: 2.5373 - accuracy: 0.2351 - val_loss: 5.6307 - val_accuracy: 0.1952\n",
            "Epoch 4/10\n",
            "375/375 [==============================] - 2s 4ms/step - loss: 2.4728 - accuracy: 0.2034 - val_loss: 2.2585 - val_accuracy: 0.2251\n",
            "Epoch 5/10\n",
            "375/375 [==============================] - 1s 3ms/step - loss: 2.2825 - accuracy: 0.2143 - val_loss: 2.2938 - val_accuracy: 0.1977\n",
            "Epoch 6/10\n",
            "375/375 [==============================] - 1s 3ms/step - loss: 2.7512 - accuracy: 0.2238 - val_loss: 2.2734 - val_accuracy: 0.2172\n",
            "Epoch 7/10\n",
            "375/375 [==============================] - 1s 3ms/step - loss: 2.4992 - accuracy: 0.2336 - val_loss: 2.2831 - val_accuracy: 0.2338\n",
            "Epoch 8/10\n",
            "375/375 [==============================] - 1s 3ms/step - loss: 2.4227 - accuracy: 0.2427 - val_loss: 2.0590 - val_accuracy: 0.2651\n",
            "Epoch 9/10\n",
            "375/375 [==============================] - 1s 3ms/step - loss: 2.6062 - accuracy: 0.2548 - val_loss: 2.2357 - val_accuracy: 0.2577\n",
            "Epoch 10/10\n",
            "375/375 [==============================] - 1s 3ms/step - loss: 2.3568 - accuracy: 0.2635 - val_loss: 2.0341 - val_accuracy: 0.2529\n"
          ]
        },
        {
          "output_type": "execute_result",
          "data": {
            "text/plain": [
              "<keras.callbacks.History at 0x7f9b4634b8b0>"
            ]
          },
          "metadata": {},
          "execution_count": 34
        }
      ],
      "source": [
        "(train_images, train_labels), _ = mnist.load_data()\n",
        "train_images = train_images.reshape((60000, 28 * 28))\n",
        "train_images = train_images.astype(\"float32\") / 255\n",
        "\n",
        "model = keras.Sequential([\n",
        "    layers.Dense(512, activation=\"relu\"),\n",
        "    layers.Dense(10, activation=\"softmax\")\n",
        "])\n",
        "model.compile(optimizer=keras.optimizers.RMSprop(1.),\n",
        "              loss=\"sparse_categorical_crossentropy\",\n",
        "              metrics=[\"accuracy\"])\n",
        "model.fit(train_images, train_labels,\n",
        "          epochs=10,\n",
        "          batch_size=128,\n",
        "          validation_split=0.2)"
      ]
    },
    {
      "cell_type": "markdown",
      "metadata": {
        "id": "Qts2v1B27eSO"
      },
      "source": [
        "**The same model with a more appropriate learning rate**"
      ]
    },
    {
      "cell_type": "code",
      "execution_count": 35,
      "metadata": {
        "id": "X5qu4Hwq7eSO",
        "outputId": "e5bbacbc-9dc1-4a48-e75a-53cada964231",
        "colab": {
          "base_uri": "https://localhost:8080/"
        }
      },
      "outputs": [
        {
          "output_type": "stream",
          "name": "stdout",
          "text": [
            "Epoch 1/10\n",
            "375/375 [==============================] - 2s 4ms/step - loss: 0.3259 - accuracy: 0.9119 - val_loss: 0.1249 - val_accuracy: 0.9626\n",
            "Epoch 2/10\n",
            "375/375 [==============================] - 2s 5ms/step - loss: 0.1230 - accuracy: 0.9651 - val_loss: 0.1470 - val_accuracy: 0.9655\n",
            "Epoch 3/10\n",
            "375/375 [==============================] - 2s 7ms/step - loss: 0.0956 - accuracy: 0.9744 - val_loss: 0.1291 - val_accuracy: 0.9708\n",
            "Epoch 4/10\n",
            "375/375 [==============================] - 2s 5ms/step - loss: 0.0798 - accuracy: 0.9796 - val_loss: 0.1747 - val_accuracy: 0.9680\n",
            "Epoch 5/10\n",
            "375/375 [==============================] - 2s 6ms/step - loss: 0.0674 - accuracy: 0.9826 - val_loss: 0.1722 - val_accuracy: 0.9693\n",
            "Epoch 6/10\n",
            "375/375 [==============================] - 2s 6ms/step - loss: 0.0596 - accuracy: 0.9852 - val_loss: 0.2037 - val_accuracy: 0.9673\n",
            "Epoch 7/10\n",
            "375/375 [==============================] - 1s 3ms/step - loss: 0.0555 - accuracy: 0.9866 - val_loss: 0.2028 - val_accuracy: 0.9722\n",
            "Epoch 8/10\n",
            "375/375 [==============================] - 1s 3ms/step - loss: 0.0490 - accuracy: 0.9883 - val_loss: 0.2072 - val_accuracy: 0.9720\n",
            "Epoch 9/10\n",
            "375/375 [==============================] - 1s 3ms/step - loss: 0.0446 - accuracy: 0.9905 - val_loss: 0.2350 - val_accuracy: 0.9702\n",
            "Epoch 10/10\n",
            "375/375 [==============================] - 1s 3ms/step - loss: 0.0364 - accuracy: 0.9916 - val_loss: 0.2094 - val_accuracy: 0.9732\n"
          ]
        }
      ],
      "source": [
        "model = keras.Sequential([\n",
        "    layers.Dense(512, activation=\"relu\"),\n",
        "    layers.Dense(10, activation=\"softmax\")\n",
        "])\n",
        "model.compile(optimizer=keras.optimizers.RMSprop(1e-2),\n",
        "              loss=\"sparse_categorical_crossentropy\",\n",
        "              metrics=[\"accuracy\"])\n",
        "history = model.fit(train_images, train_labels,\n",
        "          epochs=10,\n",
        "          batch_size=128,\n",
        "          validation_split=0.2)"
      ]
    },
    {
      "cell_type": "code",
      "source": [
        "val_loss = history.history['val_loss']\n",
        "epochs = range(1, 11)\n",
        "plt.plot(epochs, val_loss)"
      ],
      "metadata": {
        "id": "VAdsHmrT-ys7",
        "outputId": "402d2e76-d7df-4b6d-f1e6-b653480ecf50",
        "colab": {
          "base_uri": "https://localhost:8080/",
          "height": 452
        }
      },
      "execution_count": 40,
      "outputs": [
        {
          "output_type": "execute_result",
          "data": {
            "text/plain": [
              "[<matplotlib.lines.Line2D at 0x7f9bc7ea1be0>]"
            ]
          },
          "metadata": {},
          "execution_count": 40
        },
        {
          "output_type": "display_data",
          "data": {
            "text/plain": [
              "<Figure size 640x480 with 1 Axes>"
            ],
            "image/png": "[encoded data removed]"
          },
          "metadata": {}
        }
      ]
    },
    {
      "cell_type": "markdown",
      "metadata": {
        "id": "COp0jD_X7eSO"
      },
      "source": [
        "### Leveraging better architecture priors"
      ]
    },
    {
      "cell_type": "markdown",
      "metadata": {
        "id": "0KLqAYjR7eSO"
      },
      "source": [
        "### Increasing model capacity"
      ]
    },
    {
      "cell_type": "markdown",
      "metadata": {
        "id": "JneRFm7G7eSO"
      },
      "source": [
        "**A simple logistic regression on MNIST**"
      ]
    },
    {
      "cell_type": "code",
      "execution_count": 41,
      "metadata": {
        "id": "2i0GJzrE7eSO",
        "outputId": "e3acf5d0-f63b-4acf-ee85-3b733d4375a8",
        "colab": {
          "base_uri": "https://localhost:8080/"
        }
      },
      "outputs": [
        {
          "output_type": "stream",
          "name": "stdout",
          "text": [
            "Epoch 1/20\n",
            "375/375 [==============================] - 2s 4ms/step - loss: 0.6639 - accuracy: 0.8369 - val_loss: 0.3579 - val_accuracy: 0.9028\n",
            "Epoch 2/20\n",
            "375/375 [==============================] - 1s 3ms/step - loss: 0.3533 - accuracy: 0.9026 - val_loss: 0.3100 - val_accuracy: 0.9134\n",
            "Epoch 3/20\n",
            "375/375 [==============================] - 1s 3ms/step - loss: 0.3181 - accuracy: 0.9116 - val_loss: 0.2921 - val_accuracy: 0.9197\n",
            "Epoch 4/20\n",
            "375/375 [==============================] - 1s 3ms/step - loss: 0.3018 - accuracy: 0.9155 - val_loss: 0.2863 - val_accuracy: 0.9193\n",
            "Epoch 5/20\n",
            "375/375 [==============================] - 1s 3ms/step - loss: 0.2922 - accuracy: 0.9186 - val_loss: 0.2779 - val_accuracy: 0.9236\n",
            "Epoch 6/20\n",
            "375/375 [==============================] - 1s 3ms/step - loss: 0.2855 - accuracy: 0.9197 - val_loss: 0.2748 - val_accuracy: 0.9236\n",
            "Epoch 7/20\n",
            "375/375 [==============================] - 1s 3ms/step - loss: 0.2804 - accuracy: 0.9218 - val_loss: 0.2728 - val_accuracy: 0.9268\n",
            "Epoch 8/20\n",
            "375/375 [==============================] - 1s 3ms/step - loss: 0.2766 - accuracy: 0.9224 - val_loss: 0.2699 - val_accuracy: 0.9258\n",
            "Epoch 9/20\n",
            "375/375 [==============================] - 2s 4ms/step - loss: 0.2739 - accuracy: 0.9242 - val_loss: 0.2684 - val_accuracy: 0.9266\n",
            "Epoch 10/20\n",
            "375/375 [==============================] - 1s 3ms/step - loss: 0.2709 - accuracy: 0.9249 - val_loss: 0.2688 - val_accuracy: 0.9274\n",
            "Epoch 11/20\n",
            "375/375 [==============================] - 1s 3ms/step - loss: 0.2686 - accuracy: 0.9257 - val_loss: 0.2695 - val_accuracy: 0.9272\n",
            "Epoch 12/20\n",
            "375/375 [==============================] - 1s 3ms/step - loss: 0.2663 - accuracy: 0.9262 - val_loss: 0.2645 - val_accuracy: 0.9297\n",
            "Epoch 13/20\n",
            "375/375 [==============================] - 1s 3ms/step - loss: 0.2648 - accuracy: 0.9269 - val_loss: 0.2660 - val_accuracy: 0.9279\n",
            "Epoch 14/20\n",
            "375/375 [==============================] - 1s 3ms/step - loss: 0.2631 - accuracy: 0.9279 - val_loss: 0.2678 - val_accuracy: 0.9269\n",
            "Epoch 15/20\n",
            "375/375 [==============================] - 1s 3ms/step - loss: 0.2618 - accuracy: 0.9276 - val_loss: 0.2646 - val_accuracy: 0.9285\n",
            "Epoch 16/20\n",
            "375/375 [==============================] - 1s 3ms/step - loss: 0.2608 - accuracy: 0.9286 - val_loss: 0.2636 - val_accuracy: 0.9286\n",
            "Epoch 17/20\n",
            "375/375 [==============================] - 1s 3ms/step - loss: 0.2593 - accuracy: 0.9289 - val_loss: 0.2637 - val_accuracy: 0.9292\n",
            "Epoch 18/20\n",
            "375/375 [==============================] - 1s 3ms/step - loss: 0.2583 - accuracy: 0.9285 - val_loss: 0.2626 - val_accuracy: 0.9308\n",
            "Epoch 19/20\n",
            "375/375 [==============================] - 1s 4ms/step - loss: 0.2571 - accuracy: 0.9292 - val_loss: 0.2644 - val_accuracy: 0.9293\n",
            "Epoch 20/20\n",
            "375/375 [==============================] - 1s 4ms/step - loss: 0.2564 - accuracy: 0.9299 - val_loss: 0.2641 - val_accuracy: 0.9297\n"
          ]
        }
      ],
      "source": [
        "model = keras.Sequential([layers.Dense(10, activation=\"softmax\")])\n",
        "model.compile(optimizer=\"rmsprop\",\n",
        "              loss=\"sparse_categorical_crossentropy\",\n",
        "              metrics=[\"accuracy\"])\n",
        "history_small_model = model.fit(\n",
        "    train_images, train_labels,\n",
        "    epochs=20,\n",
        "    batch_size=128,\n",
        "    validation_split=0.2)"
      ]
    },
    {
      "cell_type": "code",
      "execution_count": 42,
      "metadata": {
        "id": "5A4si7lY7eSP",
        "outputId": "22ae465d-4cd2-4327-d019-dc66ab8870f8",
        "colab": {
          "base_uri": "https://localhost:8080/",
          "height": 490
        }
      },
      "outputs": [
        {
          "output_type": "execute_result",
          "data": {
            "text/plain": [
              "<matplotlib.legend.Legend at 0x7f9bc7e865e0>"
            ]
          },
          "metadata": {},
          "execution_count": 42
        },
        {
          "output_type": "display_data",
          "data": {
            "text/plain": [
              "<Figure size 640x480 with 1 Axes>"
            ],
            "image/png": "[encoded data removed]"
          },
          "metadata": {}
        }
      ],
      "source": [
        "import matplotlib.pyplot as plt\n",
        "val_loss = history_small_model.history[\"val_loss\"]\n",
        "epochs = range(1, 21)\n",
        "plt.plot(epochs, val_loss, \"b--\",\n",
        "         label=\"Validation loss\")\n",
        "plt.title(\"Effect of insufficient model capacity on validation loss\")\n",
        "plt.xlabel(\"Epochs\")\n",
        "plt.ylabel(\"Loss\")\n",
        "plt.legend()"
      ]
    },
    {
      "cell_type": "code",
      "execution_count": 43,
      "metadata": {
        "id": "8SqeWfcY7eSP",
        "outputId": "ef03ac23-0f93-4270-dcf7-f8bfb5d55434",
        "colab": {
          "base_uri": "https://localhost:8080/"
        }
      },
      "outputs": [
        {
          "output_type": "stream",
          "name": "stdout",
          "text": [
            "Epoch 1/20\n",
            "375/375 [==============================] - 3s 4ms/step - loss: 0.3655 - accuracy: 0.8945 - val_loss: 0.2069 - val_accuracy: 0.9375\n",
            "Epoch 2/20\n",
            "375/375 [==============================] - 2s 4ms/step - loss: 0.1651 - accuracy: 0.9508 - val_loss: 0.1606 - val_accuracy: 0.9504\n",
            "Epoch 3/20\n",
            "375/375 [==============================] - 2s 4ms/step - loss: 0.1139 - accuracy: 0.9659 - val_loss: 0.1173 - val_accuracy: 0.9643\n",
            "Epoch 4/20\n",
            "375/375 [==============================] - 1s 3ms/step - loss: 0.0866 - accuracy: 0.9734 - val_loss: 0.0996 - val_accuracy: 0.9698\n",
            "Epoch 5/20\n",
            "375/375 [==============================] - 1s 3ms/step - loss: 0.0696 - accuracy: 0.9791 - val_loss: 0.0937 - val_accuracy: 0.9716\n",
            "Epoch 6/20\n",
            "375/375 [==============================] - 1s 3ms/step - loss: 0.0571 - accuracy: 0.9826 - val_loss: 0.0837 - val_accuracy: 0.9741\n",
            "Epoch 7/20\n",
            "375/375 [==============================] - 1s 3ms/step - loss: 0.0469 - accuracy: 0.9862 - val_loss: 0.0893 - val_accuracy: 0.9743\n",
            "Epoch 8/20\n",
            "375/375 [==============================] - 1s 3ms/step - loss: 0.0390 - accuracy: 0.9884 - val_loss: 0.1065 - val_accuracy: 0.9700\n",
            "Epoch 9/20\n",
            "375/375 [==============================] - 1s 3ms/step - loss: 0.0325 - accuracy: 0.9902 - val_loss: 0.0997 - val_accuracy: 0.9739\n",
            "Epoch 10/20\n",
            "375/375 [==============================] - 1s 3ms/step - loss: 0.0277 - accuracy: 0.9918 - val_loss: 0.1023 - val_accuracy: 0.9722\n",
            "Epoch 11/20\n",
            "375/375 [==============================] - 1s 4ms/step - loss: 0.0230 - accuracy: 0.9930 - val_loss: 0.0982 - val_accuracy: 0.9751\n",
            "Epoch 12/20\n",
            "375/375 [==============================] - 2s 4ms/step - loss: 0.0204 - accuracy: 0.9935 - val_loss: 0.0954 - val_accuracy: 0.9759\n",
            "Epoch 13/20\n",
            "375/375 [==============================] - 1s 3ms/step - loss: 0.0177 - accuracy: 0.9944 - val_loss: 0.0964 - val_accuracy: 0.9759\n",
            "Epoch 14/20\n",
            "375/375 [==============================] - 1s 3ms/step - loss: 0.0145 - accuracy: 0.9956 - val_loss: 0.0956 - val_accuracy: 0.9771\n",
            "Epoch 15/20\n",
            "375/375 [==============================] - 1s 4ms/step - loss: 0.0119 - accuracy: 0.9964 - val_loss: 0.1153 - val_accuracy: 0.9730\n",
            "Epoch 16/20\n",
            "375/375 [==============================] - 2s 6ms/step - loss: 0.0103 - accuracy: 0.9973 - val_loss: 0.1078 - val_accuracy: 0.9759\n",
            "Epoch 17/20\n",
            "375/375 [==============================] - 1s 3ms/step - loss: 0.0084 - accuracy: 0.9974 - val_loss: 0.1139 - val_accuracy: 0.9762\n",
            "Epoch 18/20\n",
            "375/375 [==============================] - 1s 3ms/step - loss: 0.0076 - accuracy: 0.9976 - val_loss: 0.1137 - val_accuracy: 0.9766\n",
            "Epoch 19/20\n",
            "375/375 [==============================] - 1s 3ms/step - loss: 0.0071 - accuracy: 0.9977 - val_loss: 0.1209 - val_accuracy: 0.9777\n",
            "Epoch 20/20\n",
            "375/375 [==============================] - 2s 4ms/step - loss: 0.0054 - accuracy: 0.9986 - val_loss: 0.1270 - val_accuracy: 0.9754\n"
          ]
        }
      ],
      "source": [
        "model = keras.Sequential([\n",
        "    layers.Dense(96, activation=\"relu\"),\n",
        "    layers.Dense(96, activation=\"relu\"),\n",
        "    layers.Dense(10, activation=\"softmax\"),\n",
        "])\n",
        "model.compile(optimizer=\"rmsprop\",\n",
        "              loss=\"sparse_categorical_crossentropy\",\n",
        "              metrics=[\"accuracy\"])\n",
        "history_large_model = model.fit(\n",
        "    train_images, train_labels,\n",
        "    epochs=20,\n",
        "    batch_size=128,\n",
        "    validation_split=0.2)"
      ]
    },
    {
      "cell_type": "markdown",
      "metadata": {
        "id": "iU0OfiMD7eSP"
      },
      "source": [
        "## Improving generalization"
      ]
    },
    {
      "cell_type": "markdown",
      "metadata": {
        "id": "81LvSgN87eSP"
      },
      "source": [
        "### Dataset curation"
      ]
    },
    {
      "cell_type": "markdown",
      "metadata": {
        "id": "gE_vZVBZ7eSP"
      },
      "source": [
        "### Feature engineering"
      ]
    },
    {
      "cell_type": "markdown",
      "metadata": {
        "id": "qhtwgkcT7eSP"
      },
      "source": [
        "### Using early stopping"
      ]
    },
    {
      "cell_type": "markdown",
      "metadata": {
        "id": "_bl625DZ7eSP"
      },
      "source": [
        "### Regularizing your model"
      ]
    },
    {
      "cell_type": "markdown",
      "metadata": {
        "id": "nUbG3FlG7eSP"
      },
      "source": [
        "#### Reducing the network's size"
      ]
    },
    {
      "cell_type": "markdown",
      "metadata": {
        "id": "dioOlEvJ7eSP"
      },
      "source": [
        "**Original model**"
      ]
    },
    {
      "cell_type": "code",
      "execution_count": 44,
      "metadata": {
        "id": "fcBk0Rc07eSP",
        "outputId": "292b5e02-d649-4fc3-bfff-00d3e491b62f",
        "colab": {
          "base_uri": "https://localhost:8080/"
        }
      },
      "outputs": [
        {
          "output_type": "stream",
          "name": "stdout",
          "text": [
            "Downloading data from https://storage.googleapis.com/tensorflow/tf-keras-datasets/imdb.npz\n",
            "17464789/17464789 [==============================] - 0s 0us/step\n",
            "Epoch 1/20\n",
            "30/30 [==============================] - 3s 73ms/step - loss: 0.5704 - accuracy: 0.7617 - val_loss: 0.4390 - val_accuracy: 0.8589\n",
            "Epoch 2/20\n",
            "30/30 [==============================] - 1s 41ms/step - loss: 0.3659 - accuracy: 0.8839 - val_loss: 0.3399 - val_accuracy: 0.8761\n",
            "Epoch 3/20\n",
            "30/30 [==============================] - 1s 23ms/step - loss: 0.2735 - accuracy: 0.9077 - val_loss: 0.2944 - val_accuracy: 0.8870\n",
            "Epoch 4/20\n",
            "30/30 [==============================] - 1s 26ms/step - loss: 0.2176 - accuracy: 0.9248 - val_loss: 0.2927 - val_accuracy: 0.8836\n",
            "Epoch 5/20\n",
            "30/30 [==============================] - 1s 26ms/step - loss: 0.1828 - accuracy: 0.9373 - val_loss: 0.2765 - val_accuracy: 0.8890\n",
            "Epoch 6/20\n",
            "30/30 [==============================] - 1s 26ms/step - loss: 0.1533 - accuracy: 0.9499 - val_loss: 0.2866 - val_accuracy: 0.8866\n",
            "Epoch 7/20\n",
            "30/30 [==============================] - 1s 23ms/step - loss: 0.1330 - accuracy: 0.9573 - val_loss: 0.3102 - val_accuracy: 0.8791\n",
            "Epoch 8/20\n",
            "30/30 [==============================] - 1s 45ms/step - loss: 0.1182 - accuracy: 0.9624 - val_loss: 0.3218 - val_accuracy: 0.8807\n",
            "Epoch 9/20\n",
            "30/30 [==============================] - 1s 25ms/step - loss: 0.1033 - accuracy: 0.9671 - val_loss: 0.3169 - val_accuracy: 0.8828\n",
            "Epoch 10/20\n",
            "30/30 [==============================] - 1s 25ms/step - loss: 0.0878 - accuracy: 0.9748 - val_loss: 0.3376 - val_accuracy: 0.8813\n",
            "Epoch 11/20\n",
            "30/30 [==============================] - 1s 24ms/step - loss: 0.0738 - accuracy: 0.9815 - val_loss: 0.3485 - val_accuracy: 0.8818\n",
            "Epoch 12/20\n",
            "30/30 [==============================] - 1s 25ms/step - loss: 0.0665 - accuracy: 0.9829 - val_loss: 0.3741 - val_accuracy: 0.8782\n",
            "Epoch 13/20\n",
            "30/30 [==============================] - 1s 24ms/step - loss: 0.0563 - accuracy: 0.9867 - val_loss: 0.3888 - val_accuracy: 0.8787\n",
            "Epoch 14/20\n",
            "30/30 [==============================] - 1s 24ms/step - loss: 0.0483 - accuracy: 0.9877 - val_loss: 0.4109 - val_accuracy: 0.8745\n",
            "Epoch 15/20\n",
            "30/30 [==============================] - 1s 28ms/step - loss: 0.0415 - accuracy: 0.9904 - val_loss: 0.4418 - val_accuracy: 0.8734\n",
            "Epoch 16/20\n",
            "30/30 [==============================] - 1s 28ms/step - loss: 0.0344 - accuracy: 0.9934 - val_loss: 0.4538 - val_accuracy: 0.8743\n",
            "Epoch 17/20\n",
            "30/30 [==============================] - 1s 40ms/step - loss: 0.0293 - accuracy: 0.9941 - val_loss: 0.4759 - val_accuracy: 0.8747\n",
            "Epoch 18/20\n",
            "30/30 [==============================] - 1s 23ms/step - loss: 0.0270 - accuracy: 0.9937 - val_loss: 0.5011 - val_accuracy: 0.8733\n",
            "Epoch 19/20\n",
            "30/30 [==============================] - 1s 25ms/step - loss: 0.0200 - accuracy: 0.9971 - val_loss: 0.5406 - val_accuracy: 0.8700\n",
            "Epoch 20/20\n",
            "30/30 [==============================] - 1s 22ms/step - loss: 0.0142 - accuracy: 0.9984 - val_loss: 0.5484 - val_accuracy: 0.8711\n"
          ]
        }
      ],
      "source": [
        "from tensorflow.keras.datasets import imdb\n",
        "(train_data, train_labels), _ = imdb.load_data(num_words=10000)\n",
        "\n",
        "def vectorize_sequences(sequences, dimension=10000):\n",
        "    results = np.zeros((len(sequences), dimension))\n",
        "    for i, sequence in enumerate(sequences):\n",
        "        results[i, sequence] = 1.\n",
        "    return results\n",
        "train_data = vectorize_sequences(train_data)\n",
        "\n",
        "model = keras.Sequential([\n",
        "    layers.Dense(16, activation=\"relu\"),\n",
        "    layers.Dense(16, activation=\"relu\"),\n",
        "    layers.Dense(1, activation=\"sigmoid\")\n",
        "])\n",
        "model.compile(optimizer=\"rmsprop\",\n",
        "              loss=\"binary_crossentropy\",\n",
        "              metrics=[\"accuracy\"])\n",
        "history_original = model.fit(train_data, train_labels,\n",
        "                             epochs=20, batch_size=512, validation_split=0.4)"
      ]
    },
    {
      "cell_type": "markdown",
      "metadata": {
        "id": "FRetj78a7eSP"
      },
      "source": [
        "**Version of the model with lower capacity**"
      ]
    },
    {
      "cell_type": "code",
      "execution_count": 45,
      "metadata": {
        "id": "By8ta1j77eSP",
        "outputId": "ee053d05-8b31-4b07-fc9e-cce65a577b10",
        "colab": {
          "base_uri": "https://localhost:8080/"
        }
      },
      "outputs": [
        {
          "output_type": "stream",
          "name": "stdout",
          "text": [
            "Epoch 1/20\n",
            "30/30 [==============================] - 3s 61ms/step - loss: 0.6318 - accuracy: 0.7213 - val_loss: 0.5713 - val_accuracy: 0.7674\n",
            "Epoch 2/20\n",
            "30/30 [==============================] - 1s 23ms/step - loss: 0.5189 - accuracy: 0.8477 - val_loss: 0.4801 - val_accuracy: 0.8586\n",
            "Epoch 3/20\n",
            "30/30 [==============================] - 1s 23ms/step - loss: 0.4281 - accuracy: 0.8827 - val_loss: 0.4140 - val_accuracy: 0.8610\n",
            "Epoch 4/20\n",
            "30/30 [==============================] - 1s 25ms/step - loss: 0.3588 - accuracy: 0.8971 - val_loss: 0.3624 - val_accuracy: 0.8771\n",
            "Epoch 5/20\n",
            "30/30 [==============================] - 1s 24ms/step - loss: 0.3048 - accuracy: 0.9097 - val_loss: 0.3259 - val_accuracy: 0.8826\n",
            "Epoch 6/20\n",
            "30/30 [==============================] - 1s 22ms/step - loss: 0.2640 - accuracy: 0.9171 - val_loss: 0.3025 - val_accuracy: 0.8861\n",
            "Epoch 7/20\n",
            "30/30 [==============================] - 1s 25ms/step - loss: 0.2334 - accuracy: 0.9261 - val_loss: 0.2882 - val_accuracy: 0.8889\n",
            "Epoch 8/20\n",
            "30/30 [==============================] - 1s 22ms/step - loss: 0.2085 - accuracy: 0.9329 - val_loss: 0.2797 - val_accuracy: 0.8894\n",
            "Epoch 9/20\n",
            "30/30 [==============================] - 1s 22ms/step - loss: 0.1877 - accuracy: 0.9388 - val_loss: 0.2785 - val_accuracy: 0.8889\n",
            "Epoch 10/20\n",
            "30/30 [==============================] - 1s 23ms/step - loss: 0.1707 - accuracy: 0.9462 - val_loss: 0.2737 - val_accuracy: 0.8913\n",
            "Epoch 11/20\n",
            "30/30 [==============================] - 1s 24ms/step - loss: 0.1557 - accuracy: 0.9517 - val_loss: 0.2750 - val_accuracy: 0.8907\n",
            "Epoch 12/20\n",
            "30/30 [==============================] - 1s 25ms/step - loss: 0.1428 - accuracy: 0.9559 - val_loss: 0.2776 - val_accuracy: 0.8896\n",
            "Epoch 13/20\n",
            "30/30 [==============================] - 1s 25ms/step - loss: 0.1309 - accuracy: 0.9597 - val_loss: 0.2839 - val_accuracy: 0.8893\n",
            "Epoch 14/20\n",
            "30/30 [==============================] - 1s 22ms/step - loss: 0.1210 - accuracy: 0.9635 - val_loss: 0.2912 - val_accuracy: 0.8864\n",
            "Epoch 15/20\n",
            "30/30 [==============================] - 1s 24ms/step - loss: 0.1108 - accuracy: 0.9677 - val_loss: 0.2940 - val_accuracy: 0.8883\n",
            "Epoch 16/20\n",
            "30/30 [==============================] - 1s 39ms/step - loss: 0.1015 - accuracy: 0.9709 - val_loss: 0.3096 - val_accuracy: 0.8829\n",
            "Epoch 17/20\n",
            "30/30 [==============================] - 1s 29ms/step - loss: 0.0940 - accuracy: 0.9731 - val_loss: 0.3193 - val_accuracy: 0.8825\n",
            "Epoch 18/20\n",
            "30/30 [==============================] - 1s 24ms/step - loss: 0.0866 - accuracy: 0.9767 - val_loss: 0.3276 - val_accuracy: 0.8829\n",
            "Epoch 19/20\n",
            "30/30 [==============================] - 1s 22ms/step - loss: 0.0795 - accuracy: 0.9779 - val_loss: 0.3332 - val_accuracy: 0.8839\n",
            "Epoch 20/20\n",
            "30/30 [==============================] - 1s 22ms/step - loss: 0.0732 - accuracy: 0.9813 - val_loss: 0.3432 - val_accuracy: 0.8822\n"
          ]
        }
      ],
      "source": [
        "model = keras.Sequential([\n",
        "    layers.Dense(4, activation=\"relu\"),\n",
        "    layers.Dense(4, activation=\"relu\"),\n",
        "    layers.Dense(1, activation=\"sigmoid\")\n",
        "])\n",
        "model.compile(optimizer=\"rmsprop\",\n",
        "              loss=\"binary_crossentropy\",\n",
        "              metrics=[\"accuracy\"])\n",
        "history_smaller_model = model.fit(\n",
        "    train_data, train_labels,\n",
        "    epochs=20, batch_size=512, validation_split=0.4)"
      ]
    },
    {
      "cell_type": "markdown",
      "metadata": {
        "id": "wnFqamx57eSQ"
      },
      "source": [
        "**Version of the model with higher capacity**"
      ]
    },
    {
      "cell_type": "code",
      "execution_count": 46,
      "metadata": {
        "id": "2ERxoEpm7eSQ",
        "outputId": "3a96873d-a0b3-46ca-f776-86832465376e",
        "colab": {
          "base_uri": "https://localhost:8080/"
        }
      },
      "outputs": [
        {
          "output_type": "stream",
          "name": "stdout",
          "text": [
            "Epoch 1/20\n",
            "30/30 [==============================] - 4s 82ms/step - loss: 0.5685 - accuracy: 0.7193 - val_loss: 0.3828 - val_accuracy: 0.8401\n",
            "Epoch 2/20\n",
            "30/30 [==============================] - 1s 32ms/step - loss: 0.3338 - accuracy: 0.8629 - val_loss: 0.3069 - val_accuracy: 0.8725\n",
            "Epoch 3/20\n",
            "30/30 [==============================] - 1s 29ms/step - loss: 0.2275 - accuracy: 0.9082 - val_loss: 0.2763 - val_accuracy: 0.8881\n",
            "Epoch 4/20\n",
            "30/30 [==============================] - 1s 26ms/step - loss: 0.1920 - accuracy: 0.9263 - val_loss: 0.2819 - val_accuracy: 0.8853\n",
            "Epoch 5/20\n",
            "30/30 [==============================] - 1s 28ms/step - loss: 0.1486 - accuracy: 0.9449 - val_loss: 0.2946 - val_accuracy: 0.8865\n",
            "Epoch 6/20\n",
            "30/30 [==============================] - 1s 26ms/step - loss: 0.1025 - accuracy: 0.9631 - val_loss: 0.5717 - val_accuracy: 0.8081\n",
            "Epoch 7/20\n",
            "30/30 [==============================] - 1s 27ms/step - loss: 0.0931 - accuracy: 0.9682 - val_loss: 0.3174 - val_accuracy: 0.8851\n",
            "Epoch 8/20\n",
            "30/30 [==============================] - 1s 28ms/step - loss: 0.0821 - accuracy: 0.9775 - val_loss: 0.3073 - val_accuracy: 0.8850\n",
            "Epoch 9/20\n",
            "30/30 [==============================] - 1s 27ms/step - loss: 0.0185 - accuracy: 0.9979 - val_loss: 0.4332 - val_accuracy: 0.8823\n",
            "Epoch 10/20\n",
            "30/30 [==============================] - 1s 28ms/step - loss: 0.0796 - accuracy: 0.9820 - val_loss: 0.3866 - val_accuracy: 0.8844\n",
            "Epoch 11/20\n",
            "30/30 [==============================] - 1s 28ms/step - loss: 0.0064 - accuracy: 0.9995 - val_loss: 0.4885 - val_accuracy: 0.8836\n",
            "Epoch 12/20\n",
            "30/30 [==============================] - 1s 27ms/step - loss: 0.1032 - accuracy: 0.9791 - val_loss: 0.3764 - val_accuracy: 0.8798\n",
            "Epoch 13/20\n",
            "30/30 [==============================] - 1s 27ms/step - loss: 0.0056 - accuracy: 0.9999 - val_loss: 0.4825 - val_accuracy: 0.8824\n",
            "Epoch 14/20\n",
            "30/30 [==============================] - 1s 29ms/step - loss: 0.0021 - accuracy: 0.9999 - val_loss: 0.5562 - val_accuracy: 0.8821\n",
            "Epoch 15/20\n",
            "30/30 [==============================] - 1s 29ms/step - loss: 0.0010 - accuracy: 1.0000 - val_loss: 0.6114 - val_accuracy: 0.8755\n",
            "Epoch 16/20\n",
            "30/30 [==============================] - 1s 32ms/step - loss: 0.1264 - accuracy: 0.9797 - val_loss: 0.4870 - val_accuracy: 0.8823\n",
            "Epoch 17/20\n",
            "30/30 [==============================] - 1s 42ms/step - loss: 0.0016 - accuracy: 1.0000 - val_loss: 0.5610 - val_accuracy: 0.8823\n",
            "Epoch 18/20\n",
            "30/30 [==============================] - 1s 27ms/step - loss: 7.6578e-04 - accuracy: 1.0000 - val_loss: 0.6256 - val_accuracy: 0.8816\n",
            "Epoch 19/20\n",
            "30/30 [==============================] - 1s 28ms/step - loss: 4.8120e-04 - accuracy: 1.0000 - val_loss: 0.6673 - val_accuracy: 0.8825\n",
            "Epoch 20/20\n",
            "30/30 [==============================] - 1s 28ms/step - loss: 3.3267e-04 - accuracy: 1.0000 - val_loss: 0.6959 - val_accuracy: 0.8824\n"
          ]
        }
      ],
      "source": [
        "model = keras.Sequential([\n",
        "    layers.Dense(512, activation=\"relu\"),\n",
        "    layers.Dense(512, activation=\"relu\"),\n",
        "    layers.Dense(1, activation=\"sigmoid\")\n",
        "])\n",
        "model.compile(optimizer=\"rmsprop\",\n",
        "              loss=\"binary_crossentropy\",\n",
        "              metrics=[\"accuracy\"])\n",
        "history_larger_model = model.fit(\n",
        "    train_data, train_labels,\n",
        "    epochs=20, batch_size=512, validation_split=0.4)"
      ]
    },
    {
      "cell_type": "markdown",
      "metadata": {
        "id": "LLY3dC4k7eSQ"
      },
      "source": [
        "#### Adding weight regularization"
      ]
    },
    {
      "cell_type": "markdown",
      "metadata": {
        "id": "mcStCuia7eSQ"
      },
      "source": [
        "**Adding L2 weight regularization to the model**"
      ]
    },
    {
      "cell_type": "code",
      "execution_count": null,
      "metadata": {
        "id": "DwGc6wFD7eSQ"
      },
      "outputs": [],
      "source": [
        "from tensorflow.keras import regularizers\n",
        "model = keras.Sequential([\n",
        "    layers.Dense(16,\n",
        "                 kernel_regularizer=regularizers.l2(0.002),\n",
        "                 activation=\"relu\"),\n",
        "    layers.Dense(16,\n",
        "                 kernel_regularizer=regularizers.l2(0.002),\n",
        "                 activation=\"relu\"),\n",
        "    layers.Dense(1, activation=\"sigmoid\")\n",
        "])\n",
        "model.compile(optimizer=\"rmsprop\",\n",
        "              loss=\"binary_crossentropy\",\n",
        "              metrics=[\"accuracy\"])\n",
        "history_l2_reg = model.fit(\n",
        "    train_data, train_labels,\n",
        "    epochs=20, batch_size=512, validation_split=0.4)"
      ]
    },
    {
      "cell_type": "markdown",
      "metadata": {
        "id": "U7-7XsSK7eSQ"
      },
      "source": [
        "**Different weight regularizers available in Keras**"
      ]
    },
    {
      "cell_type": "code",
      "execution_count": null,
      "metadata": {
        "id": "1fmFjzS17eSQ"
      },
      "outputs": [],
      "source": [
        "from tensorflow.keras import regularizers\n",
        "regularizers.l1(0.001)\n",
        "regularizers.l1_l2(l1=0.001, l2=0.001)"
      ]
    },
    {
      "cell_type": "markdown",
      "metadata": {
        "id": "eg-Q0jay7eSQ"
      },
      "source": [
        "#### Adding dropout"
      ]
    },
    {
      "cell_type": "markdown",
      "metadata": {
        "id": "rtBKFH7O7eSQ"
      },
      "source": [
        "**Adding dropout to the IMDB model**"
      ]
    },
    {
      "cell_type": "code",
      "execution_count": null,
      "metadata": {
        "id": "VmTliNU77eSQ"
      },
      "outputs": [],
      "source": [
        "model = keras.Sequential([\n",
        "    layers.Dense(16, activation=\"relu\"),\n",
        "    layers.Dropout(0.5),\n",
        "    layers.Dense(16, activation=\"relu\"),\n",
        "    layers.Dropout(0.5),\n",
        "    layers.Dense(1, activation=\"sigmoid\")\n",
        "])\n",
        "model.compile(optimizer=\"rmsprop\",\n",
        "              loss=\"binary_crossentropy\",\n",
        "              metrics=[\"accuracy\"])\n",
        "history_dropout = model.fit(\n",
        "    train_data, train_labels,\n",
        "    epochs=20, batch_size=512, validation_split=0.4)"
      ]
    },
    {
      "cell_type": "markdown",
      "metadata": {
        "id": "QpK0PIeM7eSQ"
      },
      "source": [
        "## Summary"
      ]
    }
  ],
  "metadata": {
    "colab": {
      "name": "chapter05_fundamentals-of-ml.i",
      "provenance": [],
      "toc_visible": true
    },
    "kernelspec": {
      "display_name": "Python 3",
      "language": "python",
      "name": "python3"
    },
    "language_info": {
      "codemirror_mode": {
        "name": "ipython",
        "version": 3
      },
      "file_extension": ".py",
      "mimetype": "text/x-python",
      "name": "python",
      "nbconvert_exporter": "python",
      "pygments_lexer": "ipython3",
      "version": "3.7.0"
    },
    "accelerator": "GPU",
    "gpuClass": "standard"
  },
  "nbformat": 4,
  "nbformat_minor": 0
}