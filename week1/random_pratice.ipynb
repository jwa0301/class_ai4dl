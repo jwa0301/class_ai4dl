{
  "nbformat": 4,
  "nbformat_minor": 0,
  "metadata": {
    "colab": {
      "provenance": [],
      "authorship_tag": "ABX9TyOcu0YlCrsoTQ1EmR23QQC4",
      "include_colab_link": true
    },
    "kernelspec": {
      "name": "python3",
      "display_name": "Python 3"
    },
    "language_info": {
      "name": "python"
    }
  },
  "cells": [
    {
      "cell_type": "markdown",
      "metadata": {
        "id": "view-in-github",
        "colab_type": "text"
      },
      "source": [
        "<a href=\"https://colab.research.google.com/github/jwa0301/class_ai4dl/blob/main/week1/random_pratice.ipynb\" target=\"_parent\"><img src=\"https://colab.research.google.com/assets/colab-badge.svg\" alt=\"Open In Colab\"/></a>"
      ]
    },
    {
      "cell_type": "markdown",
      "source": [
        "## title 1\n",
        "- list1\n",
        "- list2"
      ],
      "metadata": {
        "id": "fHqX-eo5uD4L"
      }
    },
    {
      "cell_type": "code",
      "source": [],
      "metadata": {
        "id": "6nWNHk6JuTCW"
      },
      "execution_count": null,
      "outputs": []
    }
  ]
}